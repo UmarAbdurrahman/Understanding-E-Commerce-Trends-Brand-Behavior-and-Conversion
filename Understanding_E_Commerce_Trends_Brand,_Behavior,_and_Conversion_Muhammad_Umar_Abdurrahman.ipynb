{
  "nbformat": 4,
  "nbformat_minor": 0,
  "metadata": {
    "colab": {
      "provenance": [],
      "toc_visible": true,
      "authorship_tag": "ABX9TyNxSlL6ayOe88ETtteOcyCN",
      "include_colab_link": true
    },
    "kernelspec": {
      "name": "python3",
      "display_name": "Python 3"
    },
    "language_info": {
      "name": "python"
    }
  },
  "cells": [
    {
      "cell_type": "markdown",
      "metadata": {
        "id": "view-in-github",
        "colab_type": "text"
      },
      "source": [
        "<a href=\"https://colab.research.google.com/github/UmarAbdurrahman/Understanding-E-Commerce-Trends-Brand-Behavior-and-Conversion/blob/main/Understanding_E_Commerce_Trends_Brand%2C_Behavior%2C_and_Conversion_Muhammad_Umar_Abdurrahman.ipynb\" target=\"_parent\"><img src=\"https://colab.research.google.com/assets/colab-badge.svg\" alt=\"Open In Colab\"/></a>"
      ]
    },
    {
      "cell_type": "markdown",
      "source": [
        "# Description of Project"
      ],
      "metadata": {
        "id": "DXPWEAnLEw8W"
      }
    },
    {
      "cell_type": "markdown",
      "source": [
        "---\n",
        "\n",
        "**📌 Latar Belakang**\n",
        "\n",
        "Perkembangan industri e-commerce yang semakin pesat menuntut perusahaan untuk mampu memahami perilaku konsumen secara lebih mendalam. Data aktivitas pengguna (user events) seperti **view, add to cart, dan purchase** menjadi sumber informasi penting untuk menganalisis pola belanja pelanggan, efektivitas promosi, serta tren penjualan produk.\n",
        "\n",
        "Dataset ini berisi lebih dari 880 ribu catatan interaksi pengguna dengan produk, yang mencakup informasi waktu aktivitas, jenis event, kategori produk, brand, harga, hingga identitas pengguna dan sesi belanja. Melalui analisis data ini, perusahaan dapat:\n",
        "\n",
        "* Mengidentifikasi tren perilaku konsumen berdasarkan waktu, produk, maupun kategori.\n",
        "* Menganalisis tingkat konversi dari *view → cart → purchase*.\n",
        "* Mengetahui kontribusi kategori atau brand terhadap total penjualan.\n",
        "* Mengukur efektivitas harga dan strategi promosi.\n",
        "\n",
        "Oleh karena itu, analisis data ini sangat penting untuk menghasilkan insight yang dapat digunakan dalam pengambilan keputusan bisnis berbasis data (*data-driven decision making*).\n",
        "\n",
        "---\n",
        "\n",
        "**📌 Problem Statement**\n",
        "\n",
        "Berdasarkan latar belakang di atas, terdapat beberapa permasalahan yang ingin dijawab melalui project ini, yaitu:\n",
        "\n",
        "1. Bagaimana pola perilaku konsumen berdasarkan event (view, cart, purchase) dan tren musiman?\n",
        "\n",
        "2. Brand mana yang paling sering dilihat dan berkontribusi besar terhadap profit?\n",
        "\n",
        "3. Bagaimana tren aktivitas konsumen dari waktu ke waktu (bulanan)?\n",
        "\n",
        "4. Seberapa besar tingkat konversi dari view → cart → purchase, dan di tahap mana hambatan terbesar terjadi?\n",
        "\n",
        "---\n",
        "\n",
        "**📌 Objectives**\n",
        "\n",
        "Tujuan dari project analisis data ini adalah:\n",
        "1. Memahami pola perilaku konsumen berdasarkan aktivitas (view, cart, purchase).\n",
        "\n",
        "2. Mengukur tingkat konversi pada setiap tahap funnel belanja\n",
        "\n",
        "3. Mengidentifikasi brand yang dominan dan kontribusinya terhadap profit.\n",
        "\n",
        "4. Memberikan rekomendasi strategis untuk meningkatkan konversi & profit e-commerce.\n",
        "\n",
        "---\n"
      ],
      "metadata": {
        "id": "ttJO0QmQE0ai"
      }
    },
    {
      "cell_type": "markdown",
      "source": [
        "# Data Wrangling"
      ],
      "metadata": {
        "id": "j5rPyOeKMFNL"
      }
    },
    {
      "cell_type": "markdown",
      "source": [
        "## Import Library"
      ],
      "metadata": {
        "id": "IqQg_aC0LvfW"
      }
    },
    {
      "cell_type": "code",
      "execution_count": null,
      "metadata": {
        "id": "eXX26LEhiMza"
      },
      "outputs": [],
      "source": [
        "import pandas as pd\n",
        "import numpy as np\n",
        "import matplotlib.pyplot as plt\n",
        "import seaborn as sns\n",
        "import plotly.express as px\n",
        "import plotly.graph_objects as go"
      ]
    },
    {
      "cell_type": "markdown",
      "source": [
        "## Load Dataset"
      ],
      "metadata": {
        "id": "4KKvllk6L-am"
      }
    },
    {
      "cell_type": "code",
      "source": [
        "df = pd.read_csv(\"events.csv\")"
      ],
      "metadata": {
        "id": "WhchoIy8ivR9"
      },
      "execution_count": null,
      "outputs": []
    },
    {
      "cell_type": "code",
      "source": [
        "df.head()"
      ],
      "metadata": {
        "colab": {
          "base_uri": "https://localhost:8080/",
          "height": 206
        },
        "id": "6wwwcR9vcSjk",
        "outputId": "313612dd-1265-40a7-b80d-b63fc7f7e51d"
      },
      "execution_count": null,
      "outputs": [
        {
          "output_type": "execute_result",
          "data": {
            "text/plain": [
              "                event_time event_type  product_id          category_id  \\\n",
              "0  2020-09-24 11:57:06 UTC       view     1996170  2144415922528452715   \n",
              "1  2020-09-24 11:57:26 UTC       view      139905  2144415926932472027   \n",
              "2  2020-09-24 11:57:27 UTC       view      215454  2144415927158964449   \n",
              "3  2020-09-24 11:57:33 UTC       view      635807  2144415923107266682   \n",
              "4  2020-09-24 11:57:36 UTC       view     3658723  2144415921169498184   \n",
              "\n",
              "                   category_code        brand   price              user_id  \\\n",
              "0          electronics.telephone          NaN   31.90  1515915625519388267   \n",
              "1    computers.components.cooler       zalman   17.16  1515915625519380411   \n",
              "2                            NaN          NaN    9.81  1515915625513238515   \n",
              "3  computers.peripherals.printer       pantum  113.81  1515915625519014356   \n",
              "4                            NaN  cameronsino   15.87  1515915625510743344   \n",
              "\n",
              "  user_session  \n",
              "0   LJuJVLEjPT  \n",
              "1   tdicluNnRY  \n",
              "2   4TMArHtXQy  \n",
              "3   aGFYrNgC08  \n",
              "4   aa4mmk0kwQ  "
            ],
            "text/html": [
              "\n",
              "  <div id=\"df-acaef957-f2f2-40a8-aae1-16aa79ee818f\" class=\"colab-df-container\">\n",
              "    <div>\n",
              "<style scoped>\n",
              "    .dataframe tbody tr th:only-of-type {\n",
              "        vertical-align: middle;\n",
              "    }\n",
              "\n",
              "    .dataframe tbody tr th {\n",
              "        vertical-align: top;\n",
              "    }\n",
              "\n",
              "    .dataframe thead th {\n",
              "        text-align: right;\n",
              "    }\n",
              "</style>\n",
              "<table border=\"1\" class=\"dataframe\">\n",
              "  <thead>\n",
              "    <tr style=\"text-align: right;\">\n",
              "      <th></th>\n",
              "      <th>event_time</th>\n",
              "      <th>event_type</th>\n",
              "      <th>product_id</th>\n",
              "      <th>category_id</th>\n",
              "      <th>category_code</th>\n",
              "      <th>brand</th>\n",
              "      <th>price</th>\n",
              "      <th>user_id</th>\n",
              "      <th>user_session</th>\n",
              "    </tr>\n",
              "  </thead>\n",
              "  <tbody>\n",
              "    <tr>\n",
              "      <th>0</th>\n",
              "      <td>2020-09-24 11:57:06 UTC</td>\n",
              "      <td>view</td>\n",
              "      <td>1996170</td>\n",
              "      <td>2144415922528452715</td>\n",
              "      <td>electronics.telephone</td>\n",
              "      <td>NaN</td>\n",
              "      <td>31.90</td>\n",
              "      <td>1515915625519388267</td>\n",
              "      <td>LJuJVLEjPT</td>\n",
              "    </tr>\n",
              "    <tr>\n",
              "      <th>1</th>\n",
              "      <td>2020-09-24 11:57:26 UTC</td>\n",
              "      <td>view</td>\n",
              "      <td>139905</td>\n",
              "      <td>2144415926932472027</td>\n",
              "      <td>computers.components.cooler</td>\n",
              "      <td>zalman</td>\n",
              "      <td>17.16</td>\n",
              "      <td>1515915625519380411</td>\n",
              "      <td>tdicluNnRY</td>\n",
              "    </tr>\n",
              "    <tr>\n",
              "      <th>2</th>\n",
              "      <td>2020-09-24 11:57:27 UTC</td>\n",
              "      <td>view</td>\n",
              "      <td>215454</td>\n",
              "      <td>2144415927158964449</td>\n",
              "      <td>NaN</td>\n",
              "      <td>NaN</td>\n",
              "      <td>9.81</td>\n",
              "      <td>1515915625513238515</td>\n",
              "      <td>4TMArHtXQy</td>\n",
              "    </tr>\n",
              "    <tr>\n",
              "      <th>3</th>\n",
              "      <td>2020-09-24 11:57:33 UTC</td>\n",
              "      <td>view</td>\n",
              "      <td>635807</td>\n",
              "      <td>2144415923107266682</td>\n",
              "      <td>computers.peripherals.printer</td>\n",
              "      <td>pantum</td>\n",
              "      <td>113.81</td>\n",
              "      <td>1515915625519014356</td>\n",
              "      <td>aGFYrNgC08</td>\n",
              "    </tr>\n",
              "    <tr>\n",
              "      <th>4</th>\n",
              "      <td>2020-09-24 11:57:36 UTC</td>\n",
              "      <td>view</td>\n",
              "      <td>3658723</td>\n",
              "      <td>2144415921169498184</td>\n",
              "      <td>NaN</td>\n",
              "      <td>cameronsino</td>\n",
              "      <td>15.87</td>\n",
              "      <td>1515915625510743344</td>\n",
              "      <td>aa4mmk0kwQ</td>\n",
              "    </tr>\n",
              "  </tbody>\n",
              "</table>\n",
              "</div>\n",
              "    <div class=\"colab-df-buttons\">\n",
              "\n",
              "  <div class=\"colab-df-container\">\n",
              "    <button class=\"colab-df-convert\" onclick=\"convertToInteractive('df-acaef957-f2f2-40a8-aae1-16aa79ee818f')\"\n",
              "            title=\"Convert this dataframe to an interactive table.\"\n",
              "            style=\"display:none;\">\n",
              "\n",
              "  <svg xmlns=\"http://www.w3.org/2000/svg\" height=\"24px\" viewBox=\"0 -960 960 960\">\n",
              "    <path d=\"M120-120v-720h720v720H120Zm60-500h600v-160H180v160Zm220 220h160v-160H400v160Zm0 220h160v-160H400v160ZM180-400h160v-160H180v160Zm440 0h160v-160H620v160ZM180-180h160v-160H180v160Zm440 0h160v-160H620v160Z\"/>\n",
              "  </svg>\n",
              "    </button>\n",
              "\n",
              "  <style>\n",
              "    .colab-df-container {\n",
              "      display:flex;\n",
              "      gap: 12px;\n",
              "    }\n",
              "\n",
              "    .colab-df-convert {\n",
              "      background-color: #E8F0FE;\n",
              "      border: none;\n",
              "      border-radius: 50%;\n",
              "      cursor: pointer;\n",
              "      display: none;\n",
              "      fill: #1967D2;\n",
              "      height: 32px;\n",
              "      padding: 0 0 0 0;\n",
              "      width: 32px;\n",
              "    }\n",
              "\n",
              "    .colab-df-convert:hover {\n",
              "      background-color: #E2EBFA;\n",
              "      box-shadow: 0px 1px 2px rgba(60, 64, 67, 0.3), 0px 1px 3px 1px rgba(60, 64, 67, 0.15);\n",
              "      fill: #174EA6;\n",
              "    }\n",
              "\n",
              "    .colab-df-buttons div {\n",
              "      margin-bottom: 4px;\n",
              "    }\n",
              "\n",
              "    [theme=dark] .colab-df-convert {\n",
              "      background-color: #3B4455;\n",
              "      fill: #D2E3FC;\n",
              "    }\n",
              "\n",
              "    [theme=dark] .colab-df-convert:hover {\n",
              "      background-color: #434B5C;\n",
              "      box-shadow: 0px 1px 3px 1px rgba(0, 0, 0, 0.15);\n",
              "      filter: drop-shadow(0px 1px 2px rgba(0, 0, 0, 0.3));\n",
              "      fill: #FFFFFF;\n",
              "    }\n",
              "  </style>\n",
              "\n",
              "    <script>\n",
              "      const buttonEl =\n",
              "        document.querySelector('#df-acaef957-f2f2-40a8-aae1-16aa79ee818f button.colab-df-convert');\n",
              "      buttonEl.style.display =\n",
              "        google.colab.kernel.accessAllowed ? 'block' : 'none';\n",
              "\n",
              "      async function convertToInteractive(key) {\n",
              "        const element = document.querySelector('#df-acaef957-f2f2-40a8-aae1-16aa79ee818f');\n",
              "        const dataTable =\n",
              "          await google.colab.kernel.invokeFunction('convertToInteractive',\n",
              "                                                    [key], {});\n",
              "        if (!dataTable) return;\n",
              "\n",
              "        const docLinkHtml = 'Like what you see? Visit the ' +\n",
              "          '<a target=\"_blank\" href=https://colab.research.google.com/notebooks/data_table.ipynb>data table notebook</a>'\n",
              "          + ' to learn more about interactive tables.';\n",
              "        element.innerHTML = '';\n",
              "        dataTable['output_type'] = 'display_data';\n",
              "        await google.colab.output.renderOutput(dataTable, element);\n",
              "        const docLink = document.createElement('div');\n",
              "        docLink.innerHTML = docLinkHtml;\n",
              "        element.appendChild(docLink);\n",
              "      }\n",
              "    </script>\n",
              "  </div>\n",
              "\n",
              "\n",
              "    <div id=\"df-c5ad0898-7cfb-4ddd-8577-f80089e4a307\">\n",
              "      <button class=\"colab-df-quickchart\" onclick=\"quickchart('df-c5ad0898-7cfb-4ddd-8577-f80089e4a307')\"\n",
              "                title=\"Suggest charts\"\n",
              "                style=\"display:none;\">\n",
              "\n",
              "<svg xmlns=\"http://www.w3.org/2000/svg\" height=\"24px\"viewBox=\"0 0 24 24\"\n",
              "     width=\"24px\">\n",
              "    <g>\n",
              "        <path d=\"M19 3H5c-1.1 0-2 .9-2 2v14c0 1.1.9 2 2 2h14c1.1 0 2-.9 2-2V5c0-1.1-.9-2-2-2zM9 17H7v-7h2v7zm4 0h-2V7h2v10zm4 0h-2v-4h2v4z\"/>\n",
              "    </g>\n",
              "</svg>\n",
              "      </button>\n",
              "\n",
              "<style>\n",
              "  .colab-df-quickchart {\n",
              "      --bg-color: #E8F0FE;\n",
              "      --fill-color: #1967D2;\n",
              "      --hover-bg-color: #E2EBFA;\n",
              "      --hover-fill-color: #174EA6;\n",
              "      --disabled-fill-color: #AAA;\n",
              "      --disabled-bg-color: #DDD;\n",
              "  }\n",
              "\n",
              "  [theme=dark] .colab-df-quickchart {\n",
              "      --bg-color: #3B4455;\n",
              "      --fill-color: #D2E3FC;\n",
              "      --hover-bg-color: #434B5C;\n",
              "      --hover-fill-color: #FFFFFF;\n",
              "      --disabled-bg-color: #3B4455;\n",
              "      --disabled-fill-color: #666;\n",
              "  }\n",
              "\n",
              "  .colab-df-quickchart {\n",
              "    background-color: var(--bg-color);\n",
              "    border: none;\n",
              "    border-radius: 50%;\n",
              "    cursor: pointer;\n",
              "    display: none;\n",
              "    fill: var(--fill-color);\n",
              "    height: 32px;\n",
              "    padding: 0;\n",
              "    width: 32px;\n",
              "  }\n",
              "\n",
              "  .colab-df-quickchart:hover {\n",
              "    background-color: var(--hover-bg-color);\n",
              "    box-shadow: 0 1px 2px rgba(60, 64, 67, 0.3), 0 1px 3px 1px rgba(60, 64, 67, 0.15);\n",
              "    fill: var(--button-hover-fill-color);\n",
              "  }\n",
              "\n",
              "  .colab-df-quickchart-complete:disabled,\n",
              "  .colab-df-quickchart-complete:disabled:hover {\n",
              "    background-color: var(--disabled-bg-color);\n",
              "    fill: var(--disabled-fill-color);\n",
              "    box-shadow: none;\n",
              "  }\n",
              "\n",
              "  .colab-df-spinner {\n",
              "    border: 2px solid var(--fill-color);\n",
              "    border-color: transparent;\n",
              "    border-bottom-color: var(--fill-color);\n",
              "    animation:\n",
              "      spin 1s steps(1) infinite;\n",
              "  }\n",
              "\n",
              "  @keyframes spin {\n",
              "    0% {\n",
              "      border-color: transparent;\n",
              "      border-bottom-color: var(--fill-color);\n",
              "      border-left-color: var(--fill-color);\n",
              "    }\n",
              "    20% {\n",
              "      border-color: transparent;\n",
              "      border-left-color: var(--fill-color);\n",
              "      border-top-color: var(--fill-color);\n",
              "    }\n",
              "    30% {\n",
              "      border-color: transparent;\n",
              "      border-left-color: var(--fill-color);\n",
              "      border-top-color: var(--fill-color);\n",
              "      border-right-color: var(--fill-color);\n",
              "    }\n",
              "    40% {\n",
              "      border-color: transparent;\n",
              "      border-right-color: var(--fill-color);\n",
              "      border-top-color: var(--fill-color);\n",
              "    }\n",
              "    60% {\n",
              "      border-color: transparent;\n",
              "      border-right-color: var(--fill-color);\n",
              "    }\n",
              "    80% {\n",
              "      border-color: transparent;\n",
              "      border-right-color: var(--fill-color);\n",
              "      border-bottom-color: var(--fill-color);\n",
              "    }\n",
              "    90% {\n",
              "      border-color: transparent;\n",
              "      border-bottom-color: var(--fill-color);\n",
              "    }\n",
              "  }\n",
              "</style>\n",
              "\n",
              "      <script>\n",
              "        async function quickchart(key) {\n",
              "          const quickchartButtonEl =\n",
              "            document.querySelector('#' + key + ' button');\n",
              "          quickchartButtonEl.disabled = true;  // To prevent multiple clicks.\n",
              "          quickchartButtonEl.classList.add('colab-df-spinner');\n",
              "          try {\n",
              "            const charts = await google.colab.kernel.invokeFunction(\n",
              "                'suggestCharts', [key], {});\n",
              "          } catch (error) {\n",
              "            console.error('Error during call to suggestCharts:', error);\n",
              "          }\n",
              "          quickchartButtonEl.classList.remove('colab-df-spinner');\n",
              "          quickchartButtonEl.classList.add('colab-df-quickchart-complete');\n",
              "        }\n",
              "        (() => {\n",
              "          let quickchartButtonEl =\n",
              "            document.querySelector('#df-c5ad0898-7cfb-4ddd-8577-f80089e4a307 button');\n",
              "          quickchartButtonEl.style.display =\n",
              "            google.colab.kernel.accessAllowed ? 'block' : 'none';\n",
              "        })();\n",
              "      </script>\n",
              "    </div>\n",
              "\n",
              "    </div>\n",
              "  </div>\n"
            ],
            "application/vnd.google.colaboratory.intrinsic+json": {
              "type": "dataframe",
              "variable_name": "df"
            }
          },
          "metadata": {},
          "execution_count": 3
        }
      ]
    },
    {
      "cell_type": "markdown",
      "source": [
        "# Data Overview"
      ],
      "metadata": {
        "id": "ja8hBEEdMJZu"
      }
    },
    {
      "cell_type": "markdown",
      "source": [
        "- event_time: Time when event happened at (in UTC).\n",
        "- event_type: Only one kind of event: purchase.\n",
        "- product_id: ID of a product\n",
        "- category_id: Product's category ID\n",
        "- category_code: Product's category taxonomy (code name) if it was possible to make it. Usually present for meaningful categories and skipped for different kinds of accessories.\n",
        "- brand: Downcased string of brand name. Can be missed.\n",
        "- price: Float price of a product. Present.\n",
        "- user_id: Permanent user ID.\n",
        "- user_session:Temporary user's session ID. Same for each user's session. Is changed every time user come back to online store from a long pause."
      ],
      "metadata": {
        "id": "M47UKqyGFaLh"
      }
    },
    {
      "cell_type": "markdown",
      "source": [
        "## Data info"
      ],
      "metadata": {
        "id": "tpZ0C4hmTeBS"
      }
    },
    {
      "cell_type": "code",
      "source": [
        "df.info()"
      ],
      "metadata": {
        "colab": {
          "base_uri": "https://localhost:8080/"
        },
        "id": "IwuMMpstMSNb",
        "outputId": "e30f5852-d5a2-42ad-95bc-6c69db279e27"
      },
      "execution_count": null,
      "outputs": [
        {
          "output_type": "stream",
          "name": "stdout",
          "text": [
            "<class 'pandas.core.frame.DataFrame'>\n",
            "RangeIndex: 885129 entries, 0 to 885128\n",
            "Data columns (total 9 columns):\n",
            " #   Column         Non-Null Count   Dtype  \n",
            "---  ------         --------------   -----  \n",
            " 0   event_time     885129 non-null  object \n",
            " 1   event_type     885129 non-null  object \n",
            " 2   product_id     885129 non-null  int64  \n",
            " 3   category_id    885129 non-null  int64  \n",
            " 4   category_code  648910 non-null  object \n",
            " 5   brand          672765 non-null  object \n",
            " 6   price          885129 non-null  float64\n",
            " 7   user_id        885129 non-null  int64  \n",
            " 8   user_session   884964 non-null  object \n",
            "dtypes: float64(1), int64(3), object(5)\n",
            "memory usage: 60.8+ MB\n"
          ]
        }
      ]
    },
    {
      "cell_type": "markdown",
      "source": [
        "## Data Shape"
      ],
      "metadata": {
        "id": "e3OtR6OBTiD8"
      }
    },
    {
      "cell_type": "code",
      "source": [
        "df.shape"
      ],
      "metadata": {
        "colab": {
          "base_uri": "https://localhost:8080/"
        },
        "id": "RnJn4R_WTPmx",
        "outputId": "48b80152-800e-4eef-90fa-6aff5fd73ef9"
      },
      "execution_count": null,
      "outputs": [
        {
          "output_type": "execute_result",
          "data": {
            "text/plain": [
              "(885129, 9)"
            ]
          },
          "metadata": {},
          "execution_count": 5
        }
      ]
    },
    {
      "cell_type": "code",
      "source": [
        "# Cek beberapa baris pertama\n",
        "print(\"df\")\n",
        "print(df.head(), \"\\n\")"
      ],
      "metadata": {
        "colab": {
          "base_uri": "https://localhost:8080/"
        },
        "id": "1JUNnRQ7kGnp",
        "outputId": "d4833300-55ce-41b7-803a-6be951114a8c"
      },
      "execution_count": null,
      "outputs": [
        {
          "output_type": "stream",
          "name": "stdout",
          "text": [
            "df\n",
            "                event_time event_type  product_id          category_id  \\\n",
            "0  2020-09-24 11:57:06 UTC       view     1996170  2144415922528452715   \n",
            "1  2020-09-24 11:57:26 UTC       view      139905  2144415926932472027   \n",
            "2  2020-09-24 11:57:27 UTC       view      215454  2144415927158964449   \n",
            "3  2020-09-24 11:57:33 UTC       view      635807  2144415923107266682   \n",
            "4  2020-09-24 11:57:36 UTC       view     3658723  2144415921169498184   \n",
            "\n",
            "                   category_code        brand   price              user_id  \\\n",
            "0          electronics.telephone          NaN   31.90  1515915625519388267   \n",
            "1    computers.components.cooler       zalman   17.16  1515915625519380411   \n",
            "2                            NaN          NaN    9.81  1515915625513238515   \n",
            "3  computers.peripherals.printer       pantum  113.81  1515915625519014356   \n",
            "4                            NaN  cameronsino   15.87  1515915625510743344   \n",
            "\n",
            "  user_session  \n",
            "0   LJuJVLEjPT  \n",
            "1   tdicluNnRY  \n",
            "2   4TMArHtXQy  \n",
            "3   aGFYrNgC08  \n",
            "4   aa4mmk0kwQ   \n",
            "\n"
          ]
        }
      ]
    },
    {
      "cell_type": "markdown",
      "source": [
        "## Data Types"
      ],
      "metadata": {
        "id": "SACNC2ThT9aI"
      }
    },
    {
      "cell_type": "code",
      "source": [
        "df.dtypes"
      ],
      "metadata": {
        "colab": {
          "base_uri": "https://localhost:8080/",
          "height": 366
        },
        "id": "QIDc-i-8Tv1k",
        "outputId": "20b0a687-7d2d-4280-f179-37eb4cc8dc14"
      },
      "execution_count": null,
      "outputs": [
        {
          "output_type": "execute_result",
          "data": {
            "text/plain": [
              "event_time        object\n",
              "event_type        object\n",
              "product_id         int64\n",
              "category_id        int64\n",
              "category_code     object\n",
              "brand             object\n",
              "price            float64\n",
              "user_id            int64\n",
              "user_session      object\n",
              "dtype: object"
            ],
            "text/html": [
              "<div>\n",
              "<style scoped>\n",
              "    .dataframe tbody tr th:only-of-type {\n",
              "        vertical-align: middle;\n",
              "    }\n",
              "\n",
              "    .dataframe tbody tr th {\n",
              "        vertical-align: top;\n",
              "    }\n",
              "\n",
              "    .dataframe thead th {\n",
              "        text-align: right;\n",
              "    }\n",
              "</style>\n",
              "<table border=\"1\" class=\"dataframe\">\n",
              "  <thead>\n",
              "    <tr style=\"text-align: right;\">\n",
              "      <th></th>\n",
              "      <th>0</th>\n",
              "    </tr>\n",
              "  </thead>\n",
              "  <tbody>\n",
              "    <tr>\n",
              "      <th>event_time</th>\n",
              "      <td>object</td>\n",
              "    </tr>\n",
              "    <tr>\n",
              "      <th>event_type</th>\n",
              "      <td>object</td>\n",
              "    </tr>\n",
              "    <tr>\n",
              "      <th>product_id</th>\n",
              "      <td>int64</td>\n",
              "    </tr>\n",
              "    <tr>\n",
              "      <th>category_id</th>\n",
              "      <td>int64</td>\n",
              "    </tr>\n",
              "    <tr>\n",
              "      <th>category_code</th>\n",
              "      <td>object</td>\n",
              "    </tr>\n",
              "    <tr>\n",
              "      <th>brand</th>\n",
              "      <td>object</td>\n",
              "    </tr>\n",
              "    <tr>\n",
              "      <th>price</th>\n",
              "      <td>float64</td>\n",
              "    </tr>\n",
              "    <tr>\n",
              "      <th>user_id</th>\n",
              "      <td>int64</td>\n",
              "    </tr>\n",
              "    <tr>\n",
              "      <th>user_session</th>\n",
              "      <td>object</td>\n",
              "    </tr>\n",
              "  </tbody>\n",
              "</table>\n",
              "</div><br><label><b>dtype:</b> object</label>"
            ]
          },
          "metadata": {},
          "execution_count": 7
        }
      ]
    },
    {
      "cell_type": "markdown",
      "source": [
        "## Data Describe"
      ],
      "metadata": {
        "id": "1sFa6bSoUEZP"
      }
    },
    {
      "cell_type": "code",
      "source": [
        "df.describe()"
      ],
      "metadata": {
        "colab": {
          "base_uri": "https://localhost:8080/",
          "height": 300
        },
        "id": "iAiWkz5SUM9z",
        "outputId": "e966da60-f1fa-4bd6-b5c8-acbdefe255a2"
      },
      "execution_count": null,
      "outputs": [
        {
          "output_type": "execute_result",
          "data": {
            "text/plain": [
              "         product_id   category_id          price       user_id\n",
              "count  8.851290e+05  8.851290e+05  885129.000000  8.851290e+05\n",
              "mean   1.906621e+06  2.144423e+18     146.328713  1.515916e+18\n",
              "std    1.458708e+06  6.165105e+14     296.807683  3.747287e+07\n",
              "min    1.020000e+02  2.144416e+18       0.220000  1.515916e+18\n",
              "25%    6.988030e+05  2.144416e+18      26.460000  1.515916e+18\n",
              "50%    1.452883e+06  2.144416e+18      65.710000  1.515916e+18\n",
              "75%    3.721194e+06  2.144416e+18     190.490000  1.515916e+18\n",
              "max    4.183880e+06  2.227847e+18   64771.060000  1.515916e+18"
            ],
            "text/html": [
              "\n",
              "  <div id=\"df-20835123-7320-469f-b730-0883bf0bfd17\" class=\"colab-df-container\">\n",
              "    <div>\n",
              "<style scoped>\n",
              "    .dataframe tbody tr th:only-of-type {\n",
              "        vertical-align: middle;\n",
              "    }\n",
              "\n",
              "    .dataframe tbody tr th {\n",
              "        vertical-align: top;\n",
              "    }\n",
              "\n",
              "    .dataframe thead th {\n",
              "        text-align: right;\n",
              "    }\n",
              "</style>\n",
              "<table border=\"1\" class=\"dataframe\">\n",
              "  <thead>\n",
              "    <tr style=\"text-align: right;\">\n",
              "      <th></th>\n",
              "      <th>product_id</th>\n",
              "      <th>category_id</th>\n",
              "      <th>price</th>\n",
              "      <th>user_id</th>\n",
              "    </tr>\n",
              "  </thead>\n",
              "  <tbody>\n",
              "    <tr>\n",
              "      <th>count</th>\n",
              "      <td>8.851290e+05</td>\n",
              "      <td>8.851290e+05</td>\n",
              "      <td>885129.000000</td>\n",
              "      <td>8.851290e+05</td>\n",
              "    </tr>\n",
              "    <tr>\n",
              "      <th>mean</th>\n",
              "      <td>1.906621e+06</td>\n",
              "      <td>2.144423e+18</td>\n",
              "      <td>146.328713</td>\n",
              "      <td>1.515916e+18</td>\n",
              "    </tr>\n",
              "    <tr>\n",
              "      <th>std</th>\n",
              "      <td>1.458708e+06</td>\n",
              "      <td>6.165105e+14</td>\n",
              "      <td>296.807683</td>\n",
              "      <td>3.747287e+07</td>\n",
              "    </tr>\n",
              "    <tr>\n",
              "      <th>min</th>\n",
              "      <td>1.020000e+02</td>\n",
              "      <td>2.144416e+18</td>\n",
              "      <td>0.220000</td>\n",
              "      <td>1.515916e+18</td>\n",
              "    </tr>\n",
              "    <tr>\n",
              "      <th>25%</th>\n",
              "      <td>6.988030e+05</td>\n",
              "      <td>2.144416e+18</td>\n",
              "      <td>26.460000</td>\n",
              "      <td>1.515916e+18</td>\n",
              "    </tr>\n",
              "    <tr>\n",
              "      <th>50%</th>\n",
              "      <td>1.452883e+06</td>\n",
              "      <td>2.144416e+18</td>\n",
              "      <td>65.710000</td>\n",
              "      <td>1.515916e+18</td>\n",
              "    </tr>\n",
              "    <tr>\n",
              "      <th>75%</th>\n",
              "      <td>3.721194e+06</td>\n",
              "      <td>2.144416e+18</td>\n",
              "      <td>190.490000</td>\n",
              "      <td>1.515916e+18</td>\n",
              "    </tr>\n",
              "    <tr>\n",
              "      <th>max</th>\n",
              "      <td>4.183880e+06</td>\n",
              "      <td>2.227847e+18</td>\n",
              "      <td>64771.060000</td>\n",
              "      <td>1.515916e+18</td>\n",
              "    </tr>\n",
              "  </tbody>\n",
              "</table>\n",
              "</div>\n",
              "    <div class=\"colab-df-buttons\">\n",
              "\n",
              "  <div class=\"colab-df-container\">\n",
              "    <button class=\"colab-df-convert\" onclick=\"convertToInteractive('df-20835123-7320-469f-b730-0883bf0bfd17')\"\n",
              "            title=\"Convert this dataframe to an interactive table.\"\n",
              "            style=\"display:none;\">\n",
              "\n",
              "  <svg xmlns=\"http://www.w3.org/2000/svg\" height=\"24px\" viewBox=\"0 -960 960 960\">\n",
              "    <path d=\"M120-120v-720h720v720H120Zm60-500h600v-160H180v160Zm220 220h160v-160H400v160Zm0 220h160v-160H400v160ZM180-400h160v-160H180v160Zm440 0h160v-160H620v160ZM180-180h160v-160H180v160Zm440 0h160v-160H620v160Z\"/>\n",
              "  </svg>\n",
              "    </button>\n",
              "\n",
              "  <style>\n",
              "    .colab-df-container {\n",
              "      display:flex;\n",
              "      gap: 12px;\n",
              "    }\n",
              "\n",
              "    .colab-df-convert {\n",
              "      background-color: #E8F0FE;\n",
              "      border: none;\n",
              "      border-radius: 50%;\n",
              "      cursor: pointer;\n",
              "      display: none;\n",
              "      fill: #1967D2;\n",
              "      height: 32px;\n",
              "      padding: 0 0 0 0;\n",
              "      width: 32px;\n",
              "    }\n",
              "\n",
              "    .colab-df-convert:hover {\n",
              "      background-color: #E2EBFA;\n",
              "      box-shadow: 0px 1px 2px rgba(60, 64, 67, 0.3), 0px 1px 3px 1px rgba(60, 64, 67, 0.15);\n",
              "      fill: #174EA6;\n",
              "    }\n",
              "\n",
              "    .colab-df-buttons div {\n",
              "      margin-bottom: 4px;\n",
              "    }\n",
              "\n",
              "    [theme=dark] .colab-df-convert {\n",
              "      background-color: #3B4455;\n",
              "      fill: #D2E3FC;\n",
              "    }\n",
              "\n",
              "    [theme=dark] .colab-df-convert:hover {\n",
              "      background-color: #434B5C;\n",
              "      box-shadow: 0px 1px 3px 1px rgba(0, 0, 0, 0.15);\n",
              "      filter: drop-shadow(0px 1px 2px rgba(0, 0, 0, 0.3));\n",
              "      fill: #FFFFFF;\n",
              "    }\n",
              "  </style>\n",
              "\n",
              "    <script>\n",
              "      const buttonEl =\n",
              "        document.querySelector('#df-20835123-7320-469f-b730-0883bf0bfd17 button.colab-df-convert');\n",
              "      buttonEl.style.display =\n",
              "        google.colab.kernel.accessAllowed ? 'block' : 'none';\n",
              "\n",
              "      async function convertToInteractive(key) {\n",
              "        const element = document.querySelector('#df-20835123-7320-469f-b730-0883bf0bfd17');\n",
              "        const dataTable =\n",
              "          await google.colab.kernel.invokeFunction('convertToInteractive',\n",
              "                                                    [key], {});\n",
              "        if (!dataTable) return;\n",
              "\n",
              "        const docLinkHtml = 'Like what you see? Visit the ' +\n",
              "          '<a target=\"_blank\" href=https://colab.research.google.com/notebooks/data_table.ipynb>data table notebook</a>'\n",
              "          + ' to learn more about interactive tables.';\n",
              "        element.innerHTML = '';\n",
              "        dataTable['output_type'] = 'display_data';\n",
              "        await google.colab.output.renderOutput(dataTable, element);\n",
              "        const docLink = document.createElement('div');\n",
              "        docLink.innerHTML = docLinkHtml;\n",
              "        element.appendChild(docLink);\n",
              "      }\n",
              "    </script>\n",
              "  </div>\n",
              "\n",
              "\n",
              "    <div id=\"df-19ef65b4-8db2-40a3-b164-debc69e7b800\">\n",
              "      <button class=\"colab-df-quickchart\" onclick=\"quickchart('df-19ef65b4-8db2-40a3-b164-debc69e7b800')\"\n",
              "                title=\"Suggest charts\"\n",
              "                style=\"display:none;\">\n",
              "\n",
              "<svg xmlns=\"http://www.w3.org/2000/svg\" height=\"24px\"viewBox=\"0 0 24 24\"\n",
              "     width=\"24px\">\n",
              "    <g>\n",
              "        <path d=\"M19 3H5c-1.1 0-2 .9-2 2v14c0 1.1.9 2 2 2h14c1.1 0 2-.9 2-2V5c0-1.1-.9-2-2-2zM9 17H7v-7h2v7zm4 0h-2V7h2v10zm4 0h-2v-4h2v4z\"/>\n",
              "    </g>\n",
              "</svg>\n",
              "      </button>\n",
              "\n",
              "<style>\n",
              "  .colab-df-quickchart {\n",
              "      --bg-color: #E8F0FE;\n",
              "      --fill-color: #1967D2;\n",
              "      --hover-bg-color: #E2EBFA;\n",
              "      --hover-fill-color: #174EA6;\n",
              "      --disabled-fill-color: #AAA;\n",
              "      --disabled-bg-color: #DDD;\n",
              "  }\n",
              "\n",
              "  [theme=dark] .colab-df-quickchart {\n",
              "      --bg-color: #3B4455;\n",
              "      --fill-color: #D2E3FC;\n",
              "      --hover-bg-color: #434B5C;\n",
              "      --hover-fill-color: #FFFFFF;\n",
              "      --disabled-bg-color: #3B4455;\n",
              "      --disabled-fill-color: #666;\n",
              "  }\n",
              "\n",
              "  .colab-df-quickchart {\n",
              "    background-color: var(--bg-color);\n",
              "    border: none;\n",
              "    border-radius: 50%;\n",
              "    cursor: pointer;\n",
              "    display: none;\n",
              "    fill: var(--fill-color);\n",
              "    height: 32px;\n",
              "    padding: 0;\n",
              "    width: 32px;\n",
              "  }\n",
              "\n",
              "  .colab-df-quickchart:hover {\n",
              "    background-color: var(--hover-bg-color);\n",
              "    box-shadow: 0 1px 2px rgba(60, 64, 67, 0.3), 0 1px 3px 1px rgba(60, 64, 67, 0.15);\n",
              "    fill: var(--button-hover-fill-color);\n",
              "  }\n",
              "\n",
              "  .colab-df-quickchart-complete:disabled,\n",
              "  .colab-df-quickchart-complete:disabled:hover {\n",
              "    background-color: var(--disabled-bg-color);\n",
              "    fill: var(--disabled-fill-color);\n",
              "    box-shadow: none;\n",
              "  }\n",
              "\n",
              "  .colab-df-spinner {\n",
              "    border: 2px solid var(--fill-color);\n",
              "    border-color: transparent;\n",
              "    border-bottom-color: var(--fill-color);\n",
              "    animation:\n",
              "      spin 1s steps(1) infinite;\n",
              "  }\n",
              "\n",
              "  @keyframes spin {\n",
              "    0% {\n",
              "      border-color: transparent;\n",
              "      border-bottom-color: var(--fill-color);\n",
              "      border-left-color: var(--fill-color);\n",
              "    }\n",
              "    20% {\n",
              "      border-color: transparent;\n",
              "      border-left-color: var(--fill-color);\n",
              "      border-top-color: var(--fill-color);\n",
              "    }\n",
              "    30% {\n",
              "      border-color: transparent;\n",
              "      border-left-color: var(--fill-color);\n",
              "      border-top-color: var(--fill-color);\n",
              "      border-right-color: var(--fill-color);\n",
              "    }\n",
              "    40% {\n",
              "      border-color: transparent;\n",
              "      border-right-color: var(--fill-color);\n",
              "      border-top-color: var(--fill-color);\n",
              "    }\n",
              "    60% {\n",
              "      border-color: transparent;\n",
              "      border-right-color: var(--fill-color);\n",
              "    }\n",
              "    80% {\n",
              "      border-color: transparent;\n",
              "      border-right-color: var(--fill-color);\n",
              "      border-bottom-color: var(--fill-color);\n",
              "    }\n",
              "    90% {\n",
              "      border-color: transparent;\n",
              "      border-bottom-color: var(--fill-color);\n",
              "    }\n",
              "  }\n",
              "</style>\n",
              "\n",
              "      <script>\n",
              "        async function quickchart(key) {\n",
              "          const quickchartButtonEl =\n",
              "            document.querySelector('#' + key + ' button');\n",
              "          quickchartButtonEl.disabled = true;  // To prevent multiple clicks.\n",
              "          quickchartButtonEl.classList.add('colab-df-spinner');\n",
              "          try {\n",
              "            const charts = await google.colab.kernel.invokeFunction(\n",
              "                'suggestCharts', [key], {});\n",
              "          } catch (error) {\n",
              "            console.error('Error during call to suggestCharts:', error);\n",
              "          }\n",
              "          quickchartButtonEl.classList.remove('colab-df-spinner');\n",
              "          quickchartButtonEl.classList.add('colab-df-quickchart-complete');\n",
              "        }\n",
              "        (() => {\n",
              "          let quickchartButtonEl =\n",
              "            document.querySelector('#df-19ef65b4-8db2-40a3-b164-debc69e7b800 button');\n",
              "          quickchartButtonEl.style.display =\n",
              "            google.colab.kernel.accessAllowed ? 'block' : 'none';\n",
              "        })();\n",
              "      </script>\n",
              "    </div>\n",
              "\n",
              "    </div>\n",
              "  </div>\n"
            ],
            "application/vnd.google.colaboratory.intrinsic+json": {
              "type": "dataframe",
              "summary": "{\n  \"name\": \"df\",\n  \"rows\": 8,\n  \"fields\": [\n    {\n      \"column\": \"product_id\",\n      \"properties\": {\n        \"dtype\": \"number\",\n        \"std\": 1459471.109461228,\n        \"min\": 102.0,\n        \"max\": 4183880.0,\n        \"num_unique_values\": 8,\n        \"samples\": [\n          1906620.5358925082,\n          1452883.0,\n          885129.0\n        ],\n        \"semantic_type\": \"\",\n        \"description\": \"\"\n      }\n    },\n    {\n      \"column\": \"category_id\",\n      \"properties\": {\n        \"dtype\": \"number\",\n        \"std\": 9.99381079836521e+17,\n        \"min\": 885129.0,\n        \"max\": 2.2278473327690394e+18,\n        \"num_unique_values\": 8,\n        \"samples\": [\n          2.1444229679870372e+18,\n          2.1444159250114808e+18,\n          885129.0\n        ],\n        \"semantic_type\": \"\",\n        \"description\": \"\"\n      }\n    },\n    {\n      \"column\": \"price\",\n      \"properties\": {\n        \"dtype\": \"number\",\n        \"std\": 310457.6220276189,\n        \"min\": 0.22,\n        \"max\": 885129.0,\n        \"num_unique_values\": 8,\n        \"samples\": [\n          146.3287134982585,\n          65.71,\n          885129.0\n        ],\n        \"semantic_type\": \"\",\n        \"description\": \"\"\n      }\n    },\n    {\n      \"column\": \"user_id\",\n      \"properties\": {\n        \"dtype\": \"number\",\n        \"std\": 7.017325778305142e+17,\n        \"min\": 885129.0,\n        \"max\": 1.5159156256110241e+18,\n        \"num_unique_values\": 8,\n        \"samples\": [\n          1.5159156255589655e+18,\n          1.5159156255540854e+18,\n          885129.0\n        ],\n        \"semantic_type\": \"\",\n        \"description\": \"\"\n      }\n    }\n  ]\n}"
            }
          },
          "metadata": {},
          "execution_count": 8
        }
      ]
    },
    {
      "cell_type": "markdown",
      "source": [
        "# Data Preperation"
      ],
      "metadata": {
        "id": "mGK8FkJ3VDIV"
      }
    },
    {
      "cell_type": "markdown",
      "source": [
        "## Data Inspection"
      ],
      "metadata": {
        "id": "kvkluRHNVOAI"
      }
    },
    {
      "cell_type": "markdown",
      "source": [
        "### Handling Missing Values"
      ],
      "metadata": {
        "id": "uZzuQiK1VGWz"
      }
    },
    {
      "cell_type": "code",
      "source": [
        "df.isna().sum()"
      ],
      "metadata": {
        "colab": {
          "base_uri": "https://localhost:8080/",
          "height": 366
        },
        "id": "UNUiUWTZlSoE",
        "outputId": "12c186cc-fc14-4b39-d275-0625a5bf8b9c"
      },
      "execution_count": null,
      "outputs": [
        {
          "output_type": "execute_result",
          "data": {
            "text/plain": [
              "event_time            0\n",
              "event_type            0\n",
              "product_id            0\n",
              "category_id           0\n",
              "category_code    236219\n",
              "brand            212364\n",
              "price                 0\n",
              "user_id               0\n",
              "user_session        165\n",
              "dtype: int64"
            ],
            "text/html": [
              "<div>\n",
              "<style scoped>\n",
              "    .dataframe tbody tr th:only-of-type {\n",
              "        vertical-align: middle;\n",
              "    }\n",
              "\n",
              "    .dataframe tbody tr th {\n",
              "        vertical-align: top;\n",
              "    }\n",
              "\n",
              "    .dataframe thead th {\n",
              "        text-align: right;\n",
              "    }\n",
              "</style>\n",
              "<table border=\"1\" class=\"dataframe\">\n",
              "  <thead>\n",
              "    <tr style=\"text-align: right;\">\n",
              "      <th></th>\n",
              "      <th>0</th>\n",
              "    </tr>\n",
              "  </thead>\n",
              "  <tbody>\n",
              "    <tr>\n",
              "      <th>event_time</th>\n",
              "      <td>0</td>\n",
              "    </tr>\n",
              "    <tr>\n",
              "      <th>event_type</th>\n",
              "      <td>0</td>\n",
              "    </tr>\n",
              "    <tr>\n",
              "      <th>product_id</th>\n",
              "      <td>0</td>\n",
              "    </tr>\n",
              "    <tr>\n",
              "      <th>category_id</th>\n",
              "      <td>0</td>\n",
              "    </tr>\n",
              "    <tr>\n",
              "      <th>category_code</th>\n",
              "      <td>236219</td>\n",
              "    </tr>\n",
              "    <tr>\n",
              "      <th>brand</th>\n",
              "      <td>212364</td>\n",
              "    </tr>\n",
              "    <tr>\n",
              "      <th>price</th>\n",
              "      <td>0</td>\n",
              "    </tr>\n",
              "    <tr>\n",
              "      <th>user_id</th>\n",
              "      <td>0</td>\n",
              "    </tr>\n",
              "    <tr>\n",
              "      <th>user_session</th>\n",
              "      <td>165</td>\n",
              "    </tr>\n",
              "  </tbody>\n",
              "</table>\n",
              "</div><br><label><b>dtype:</b> int64</label>"
            ]
          },
          "metadata": {},
          "execution_count": 9
        }
      ]
    },
    {
      "cell_type": "code",
      "source": [
        "# Tangani missing values (contoh: isi numerik dengan median, kategorikal dengan mode)\n",
        "for col in df.columns:\n",
        "    if df[col].dtype in [\"int64\", \"float64\"]:\n",
        "        df[col] = df[col].fillna(df[col].median())\n",
        "    else:\n",
        "        df[col] = df[col].fillna(df[col].mode()[0])\n",
        "\n",
        "df.isna().sum()\n"
      ],
      "metadata": {
        "id": "o_63H6zle6LJ",
        "colab": {
          "base_uri": "https://localhost:8080/",
          "height": 366
        },
        "outputId": "35726a21-5bb0-4aa0-b011-e27129ae1df5"
      },
      "execution_count": null,
      "outputs": [
        {
          "output_type": "execute_result",
          "data": {
            "text/plain": [
              "event_time       0\n",
              "event_type       0\n",
              "product_id       0\n",
              "category_id      0\n",
              "category_code    0\n",
              "brand            0\n",
              "price            0\n",
              "user_id          0\n",
              "user_session     0\n",
              "dtype: int64"
            ],
            "text/html": [
              "<div>\n",
              "<style scoped>\n",
              "    .dataframe tbody tr th:only-of-type {\n",
              "        vertical-align: middle;\n",
              "    }\n",
              "\n",
              "    .dataframe tbody tr th {\n",
              "        vertical-align: top;\n",
              "    }\n",
              "\n",
              "    .dataframe thead th {\n",
              "        text-align: right;\n",
              "    }\n",
              "</style>\n",
              "<table border=\"1\" class=\"dataframe\">\n",
              "  <thead>\n",
              "    <tr style=\"text-align: right;\">\n",
              "      <th></th>\n",
              "      <th>0</th>\n",
              "    </tr>\n",
              "  </thead>\n",
              "  <tbody>\n",
              "    <tr>\n",
              "      <th>event_time</th>\n",
              "      <td>0</td>\n",
              "    </tr>\n",
              "    <tr>\n",
              "      <th>event_type</th>\n",
              "      <td>0</td>\n",
              "    </tr>\n",
              "    <tr>\n",
              "      <th>product_id</th>\n",
              "      <td>0</td>\n",
              "    </tr>\n",
              "    <tr>\n",
              "      <th>category_id</th>\n",
              "      <td>0</td>\n",
              "    </tr>\n",
              "    <tr>\n",
              "      <th>category_code</th>\n",
              "      <td>0</td>\n",
              "    </tr>\n",
              "    <tr>\n",
              "      <th>brand</th>\n",
              "      <td>0</td>\n",
              "    </tr>\n",
              "    <tr>\n",
              "      <th>price</th>\n",
              "      <td>0</td>\n",
              "    </tr>\n",
              "    <tr>\n",
              "      <th>user_id</th>\n",
              "      <td>0</td>\n",
              "    </tr>\n",
              "    <tr>\n",
              "      <th>user_session</th>\n",
              "      <td>0</td>\n",
              "    </tr>\n",
              "  </tbody>\n",
              "</table>\n",
              "</div><br><label><b>dtype:</b> int64</label>"
            ]
          },
          "metadata": {},
          "execution_count": 10
        }
      ]
    },
    {
      "cell_type": "markdown",
      "source": [
        "### Handling Duplicated"
      ],
      "metadata": {
        "id": "tsqdhxA5VTV0"
      }
    },
    {
      "cell_type": "code",
      "source": [
        "df.duplicated().sum()"
      ],
      "metadata": {
        "colab": {
          "base_uri": "https://localhost:8080/"
        },
        "id": "Wsh_I_DjkNFu",
        "outputId": "3a94dec1-0837-4e07-f9d9-0d57e82578e8"
      },
      "execution_count": null,
      "outputs": [
        {
          "output_type": "execute_result",
          "data": {
            "text/plain": [
              "np.int64(655)"
            ]
          },
          "metadata": {},
          "execution_count": 11
        }
      ]
    },
    {
      "cell_type": "code",
      "source": [
        "df = df.drop_duplicates()\n",
        "df.duplicated().sum()"
      ],
      "metadata": {
        "colab": {
          "base_uri": "https://localhost:8080/"
        },
        "id": "9BZVP1iWcdsC",
        "outputId": "49f0f838-2dac-4e7c-c02b-3a36899e3b51"
      },
      "execution_count": null,
      "outputs": [
        {
          "output_type": "execute_result",
          "data": {
            "text/plain": [
              "np.int64(0)"
            ]
          },
          "metadata": {},
          "execution_count": 12
        }
      ]
    },
    {
      "cell_type": "markdown",
      "source": [
        "## Data Manipulating"
      ],
      "metadata": {
        "id": "OxG0e58SCWUT"
      }
    },
    {
      "cell_type": "code",
      "source": [
        "df['event_time'] = pd.to_datetime(df['event_time'])"
      ],
      "metadata": {
        "id": "Y7IKfg3IBzy4"
      },
      "execution_count": null,
      "outputs": []
    },
    {
      "cell_type": "code",
      "source": [
        "df['event_time']"
      ],
      "metadata": {
        "colab": {
          "base_uri": "https://localhost:8080/",
          "height": 458
        },
        "id": "uNIi9Gz1B3Cm",
        "outputId": "006e62c7-da9e-4d80-c28d-342fe18db811"
      },
      "execution_count": null,
      "outputs": [
        {
          "output_type": "execute_result",
          "data": {
            "text/plain": [
              "0        2020-09-24 11:57:06+00:00\n",
              "1        2020-09-24 11:57:26+00:00\n",
              "2        2020-09-24 11:57:27+00:00\n",
              "3        2020-09-24 11:57:33+00:00\n",
              "4        2020-09-24 11:57:36+00:00\n",
              "                    ...           \n",
              "885124   2021-02-28 23:55:01+00:00\n",
              "885125   2021-02-28 23:58:05+00:00\n",
              "885126   2021-02-28 23:58:09+00:00\n",
              "885127   2021-02-28 23:58:14+00:00\n",
              "885128   2021-02-28 23:59:09+00:00\n",
              "Name: event_time, Length: 884474, dtype: datetime64[ns, UTC]"
            ],
            "text/html": [
              "<div>\n",
              "<style scoped>\n",
              "    .dataframe tbody tr th:only-of-type {\n",
              "        vertical-align: middle;\n",
              "    }\n",
              "\n",
              "    .dataframe tbody tr th {\n",
              "        vertical-align: top;\n",
              "    }\n",
              "\n",
              "    .dataframe thead th {\n",
              "        text-align: right;\n",
              "    }\n",
              "</style>\n",
              "<table border=\"1\" class=\"dataframe\">\n",
              "  <thead>\n",
              "    <tr style=\"text-align: right;\">\n",
              "      <th></th>\n",
              "      <th>event_time</th>\n",
              "    </tr>\n",
              "  </thead>\n",
              "  <tbody>\n",
              "    <tr>\n",
              "      <th>0</th>\n",
              "      <td>2020-09-24 11:57:06+00:00</td>\n",
              "    </tr>\n",
              "    <tr>\n",
              "      <th>1</th>\n",
              "      <td>2020-09-24 11:57:26+00:00</td>\n",
              "    </tr>\n",
              "    <tr>\n",
              "      <th>2</th>\n",
              "      <td>2020-09-24 11:57:27+00:00</td>\n",
              "    </tr>\n",
              "    <tr>\n",
              "      <th>3</th>\n",
              "      <td>2020-09-24 11:57:33+00:00</td>\n",
              "    </tr>\n",
              "    <tr>\n",
              "      <th>4</th>\n",
              "      <td>2020-09-24 11:57:36+00:00</td>\n",
              "    </tr>\n",
              "    <tr>\n",
              "      <th>...</th>\n",
              "      <td>...</td>\n",
              "    </tr>\n",
              "    <tr>\n",
              "      <th>885124</th>\n",
              "      <td>2021-02-28 23:55:01+00:00</td>\n",
              "    </tr>\n",
              "    <tr>\n",
              "      <th>885125</th>\n",
              "      <td>2021-02-28 23:58:05+00:00</td>\n",
              "    </tr>\n",
              "    <tr>\n",
              "      <th>885126</th>\n",
              "      <td>2021-02-28 23:58:09+00:00</td>\n",
              "    </tr>\n",
              "    <tr>\n",
              "      <th>885127</th>\n",
              "      <td>2021-02-28 23:58:14+00:00</td>\n",
              "    </tr>\n",
              "    <tr>\n",
              "      <th>885128</th>\n",
              "      <td>2021-02-28 23:59:09+00:00</td>\n",
              "    </tr>\n",
              "  </tbody>\n",
              "</table>\n",
              "<p>884474 rows × 1 columns</p>\n",
              "</div><br><label><b>dtype:</b> datetime64[ns, UTC]</label>"
            ]
          },
          "metadata": {},
          "execution_count": 14
        }
      ]
    },
    {
      "cell_type": "code",
      "source": [
        "df['year'], df['month'], df['day'], df['hour'] = df['event_time'].dt.year,  df['event_time'].dt.month,  df['event_time'].dt.day, df['event_time'].dt.hour"
      ],
      "metadata": {
        "id": "j-Gwm8M-CHns"
      },
      "execution_count": null,
      "outputs": []
    },
    {
      "cell_type": "code",
      "source": [
        "df['year_month'] = df['event_time'].dt.to_period('M')"
      ],
      "metadata": {
        "colab": {
          "base_uri": "https://localhost:8080/"
        },
        "id": "fNcYWR_nQqb7",
        "outputId": "1ecda168-7440-4938-a1cc-5721a61dffa3"
      },
      "execution_count": null,
      "outputs": [
        {
          "output_type": "stream",
          "name": "stderr",
          "text": [
            "/tmp/ipython-input-722591567.py:1: UserWarning: Converting to PeriodArray/Index representation will drop timezone information.\n",
            "  df['year_month'] = df['event_time'].dt.to_period('M')\n"
          ]
        }
      ]
    },
    {
      "cell_type": "code",
      "source": [
        "df.info()"
      ],
      "metadata": {
        "colab": {
          "base_uri": "https://localhost:8080/"
        },
        "id": "DFpbsDK6SER4",
        "outputId": "8c742e18-a8de-42f4-f276-16ff4d77991e"
      },
      "execution_count": null,
      "outputs": [
        {
          "output_type": "stream",
          "name": "stdout",
          "text": [
            "<class 'pandas.core.frame.DataFrame'>\n",
            "Index: 884474 entries, 0 to 885128\n",
            "Data columns (total 14 columns):\n",
            " #   Column         Non-Null Count   Dtype              \n",
            "---  ------         --------------   -----              \n",
            " 0   event_time     884474 non-null  datetime64[ns, UTC]\n",
            " 1   event_type     884474 non-null  object             \n",
            " 2   product_id     884474 non-null  int64              \n",
            " 3   category_id    884474 non-null  int64              \n",
            " 4   category_code  884474 non-null  object             \n",
            " 5   brand          884474 non-null  object             \n",
            " 6   price          884474 non-null  float64            \n",
            " 7   user_id        884474 non-null  int64              \n",
            " 8   user_session   884474 non-null  object             \n",
            " 9   year           884474 non-null  int32              \n",
            " 10  month          884474 non-null  int32              \n",
            " 11  day            884474 non-null  int32              \n",
            " 12  hour           884474 non-null  int32              \n",
            " 13  year_month     884474 non-null  period[M]          \n",
            "dtypes: datetime64[ns, UTC](1), float64(1), int32(4), int64(3), object(4), period[M](1)\n",
            "memory usage: 87.7+ MB\n"
          ]
        }
      ]
    },
    {
      "cell_type": "markdown",
      "source": [
        "# Exploratory Data Analytics"
      ],
      "metadata": {
        "id": "7gxJTnqrDyUy"
      }
    },
    {
      "cell_type": "markdown",
      "source": [
        "## Number of Transactions Over Months"
      ],
      "metadata": {
        "id": "Wh7T9GzgD7sQ"
      }
    },
    {
      "cell_type": "code",
      "source": [
        "plt.figure(figsize=(12, 6))\n",
        "df['event_time'].dt.to_period('M').value_counts().sort_index().plot(kind='bar')\n",
        "plt.title('Number of Transactions Over Months')\n",
        "plt.xlabel('Month')\n",
        "plt.ylabel('Number of Transactions')\n",
        "plt.xticks(rotation=45)\n",
        "plt.show()"
      ],
      "metadata": {
        "colab": {
          "base_uri": "https://localhost:8080/",
          "height": 636
        },
        "id": "io5kj-epP-g3",
        "outputId": "87a0c3e3-b621-4886-9ec2-b29313ef316f"
      },
      "execution_count": null,
      "outputs": [
        {
          "output_type": "stream",
          "name": "stderr",
          "text": [
            "/tmp/ipython-input-1567785600.py:2: UserWarning: Converting to PeriodArray/Index representation will drop timezone information.\n",
            "  df['event_time'].dt.to_period('M').value_counts().sort_index().plot(kind='bar')\n"
          ]
        },
        {
          "output_type": "display_data",
          "data": {
            "text/plain": [
              "<Figure size 1200x600 with 1 Axes>"
            ],
            "image/png": "[encoded data removed]"
          },
          "metadata": {}
        }
      ]
    },
    {
      "cell_type": "markdown",
      "source": [
        "Berikut interpretasi dari grafik **Number of Transactions Over Months**:\n",
        "\n",
        "1. **September 2020** → jumlah transaksi masih rendah (~30 ribu), kemungkinan karena data baru mulai direkam pada periode ini.\n",
        "2. **Oktober 2020** → terjadi lonjakan signifikan (>160 ribu transaksi), menandakan peningkatan adopsi atau promosi e-commerce.\n",
        "3. **November 2020** → transaksi mencapai puncak tertinggi (~190 ribu), kemungkinan dipengaruhi oleh event belanja besar seperti **11.11 sale**.\n",
        "4. **Desember 2020** → mengalami penurunan (~150 ribu), meskipun masih lebih tinggi dibanding awal data.\n",
        "5. **Januari 2021** → kembali naik ke level puncak (~190 ribu), bisa jadi karena momentum **New Year sale**.\n",
        "6. **Februari 2021** → sedikit menurun (~165 ribu), namun tetap lebih tinggi dibanding Oktober–Desember.\n",
        "\n",
        "📌 Insight Utama\n",
        "**bold text**\n",
        "* Ada **musiman (seasonality)**: transaksi meningkat signifikan pada bulan promosi besar (November, Januari).\n",
        "* Setelah puncak, ada penurunan wajar, tetapi tetap lebih tinggi dari awal pengamatan.\n",
        "* Menunjukkan tren positif bahwa platform e-commerce semakin aktif digunakan dari waktu ke waktu.\n",
        "\n",
        "Mau saya buatkan juga **business recommendation** berdasarkan pola musiman ini?\n"
      ],
      "metadata": {
        "id": "zutFe0hyqoLH"
      }
    },
    {
      "cell_type": "markdown",
      "source": [
        "## Events by Type"
      ],
      "metadata": {
        "id": "jBuI4sgnEJLb"
      }
    },
    {
      "cell_type": "code",
      "source": [
        "# === STEP 5: Analisis Sederhana ===\n",
        "# Jumlah event berdasarkan jenisnya\n",
        "event_counts = df['event_type'].value_counts()\n",
        "print(\"\\nJumlah Event per Jenis:\\n\", event_counts)"
      ],
      "metadata": {
        "colab": {
          "base_uri": "https://localhost:8080/"
        },
        "id": "a2anT1CgDArr",
        "outputId": "b2aeff04-7715-4d8c-abfb-90ead39243f6"
      },
      "execution_count": null,
      "outputs": [
        {
          "output_type": "stream",
          "name": "stdout",
          "text": [
            "\n",
            "Jumlah Event per Jenis:\n",
            " event_type\n",
            "view        793099\n",
            "cart         54032\n",
            "purchase     37343\n",
            "Name: count, dtype: int64\n"
          ]
        }
      ]
    },
    {
      "cell_type": "markdown",
      "source": [
        "## Event Type Distribution"
      ],
      "metadata": {
        "id": "6O_-jiWUERmC"
      }
    },
    {
      "cell_type": "code",
      "source": [
        "# Visualisasi distribusi event\n",
        "plt.figure(figsize=(6,4))\n",
        "sns.countplot(x='event_type', data=df, order=df['event_type'].value_counts().index, palette=\"viridis\")\n",
        "plt.title(\"Distribusi Event Type\")\n",
        "plt.xlabel(\"Event Type\")\n",
        "plt.ylabel(\"Jumlah\")\n",
        "plt.show()"
      ],
      "metadata": {
        "colab": {
          "base_uri": "https://localhost:8080/",
          "height": 497
        },
        "id": "Mk3z8pNdDCUD",
        "outputId": "526a8530-d14f-49ea-a4a6-d1b3c0bb190c"
      },
      "execution_count": null,
      "outputs": [
        {
          "output_type": "stream",
          "name": "stderr",
          "text": [
            "/tmp/ipython-input-731250124.py:3: FutureWarning: \n",
            "\n",
            "Passing `palette` without assigning `hue` is deprecated and will be removed in v0.14.0. Assign the `x` variable to `hue` and set `legend=False` for the same effect.\n",
            "\n",
            "  sns.countplot(x='event_type', data=df, order=df['event_type'].value_counts().index, palette=\"viridis\")\n"
          ]
        },
        {
          "output_type": "display_data",
          "data": {
            "text/plain": [
              "<Figure size 600x400 with 1 Axes>"
            ],
            "image/png": "[encoded data removed]"
          },
          "metadata": {}
        }
      ]
    },
    {
      "cell_type": "markdown",
      "source": [
        "Berikut interpretasi dari grafik **Distribusi Event Type**:\n",
        "\n",
        "1. **View (±800 ribu)**\n",
        "\n",
        "   * Mayoritas aktivitas pengguna hanya sebatas melihat produk.\n",
        "   * Menunjukkan tingginya *interest* konsumen, tetapi belum terkonversi ke tindakan lebih lanjut.\n",
        "\n",
        "2. **Cart (±60 ribu)**\n",
        "\n",
        "   * Hanya sebagian kecil produk yang masuk ke keranjang.\n",
        "   * Ada *gap* besar antara *view* dan *cart* → indikasi adanya kendala pada tahap pertimbangan (harga, kepercayaan, ongkir, atau kurangnya promo).\n",
        "\n",
        "3. **Purchase (±45 ribu)**\n",
        "\n",
        "   * Dari seluruh interaksi, transaksi pembelian jauh lebih kecil.\n",
        "   * Konversi dari *cart → purchase* cukup baik, tetapi dari *view → purchase* masih sangat rendah.\n",
        "\n",
        "📌 Insight Utama\n",
        "\n",
        "* **Conversion Funnel lemah di awal** → banyak pengguna berhenti di tahap *view*.\n",
        "* **Opportunity besar** untuk meningkatkan konversi dengan strategi:\n",
        "\n",
        "  * Optimasi harga & diskon.\n",
        "  * Reminder atau notifikasi untuk produk yang ditinggalkan di keranjang.\n",
        "  * Peningkatan trust (review, garansi, free shipping).\n",
        "\n",
        "Mau saya buatkan juga **angka conversion rate (view → cart → purchase)** dalam bentuk persentase agar lebih konkret untuk presentasi?\n"
      ],
      "metadata": {
        "id": "Rh4KNrxKrKau"
      }
    },
    {
      "cell_type": "markdown",
      "source": [
        "## Monthly User Activity Trends"
      ],
      "metadata": {
        "id": "EZnW2y8dEW_4"
      }
    },
    {
      "cell_type": "code",
      "source": [
        "# === STEP 6: Tren Waktu ===\n",
        "# Agregasi jumlah event per bulan\n",
        "monthly_trend = df.groupby('year_month')['event_type'].count().reset_index()\n",
        "\n",
        "# Convert 'year_month' to string for plotting\n",
        "monthly_trend['year_month'] = monthly_trend['year_month'].astype(str)\n",
        "\n",
        "plt.figure(figsize=(10,5))\n",
        "sns.lineplot(x='year_month', y='event_type', data=monthly_trend, marker=\"o\")\n",
        "plt.title(\"Tren Aktivitas Pengguna per Bulan\")\n",
        "plt.xticks(rotation=45)\n",
        "plt.ylabel(\"Jumlah Event\")\n",
        "plt.xlabel(\"Bulan\")\n",
        "plt.show()"
      ],
      "metadata": {
        "colab": {
          "base_uri": "https://localhost:8080/",
          "height": 524
        },
        "id": "R6NEqK7aDH-q",
        "outputId": "46bc1ed5-e4a1-4529-935f-3d1844ca3f2f"
      },
      "execution_count": null,
      "outputs": [
        {
          "output_type": "display_data",
          "data": {
            "text/plain": [
              "<Figure size 1000x500 with 1 Axes>"
            ],
            "image/png": "[encoded data removed]"
          },
          "metadata": {}
        }
      ]
    },
    {
      "cell_type": "markdown",
      "source": [
        "- **Overall Trend**: The number of user activities shows a general upward trajectory with fluctuations. Starting at approximately 20,000 events in September 2020, it peaks at around 180,000 events in November 2020, followed by a decline and subsequent recovery.\n",
        "- **Key Observations**:\n",
        "  - **Initial Growth (Sep 2020 - Nov 2020)**: There is a sharp increase from 20,000 to 180,000 events, indicating a significant rise in user engagement, possibly due to new features, marketing campaigns, or seasonal demand.\n",
        "  - **Peak (Nov 2020)**: The highest activity level is observed in November 2020 (around 180,000 events), suggesting a peak in user interaction, which could correlate with holiday seasons or product launches.\n",
        "  - **Decline (Nov 2020 - Dec 2020)**: A noticeable drop to approximately 140,000 events in December 2020 may reflect a post-peak slowdown, possibly due to seasonal factors or user fatigue.\n",
        "  - **Recovery and Fluctuation (Jan 2021 - Feb 2021)**: Activity rises again to 180,000 events in January 2021, followed by a slight decline to 160,000 events in February 2021, indicating a stabilization with minor fluctuations.\n",
        "- **Implications**: The data suggests a strong initial adoption or interest, with a peak during a potentially high-engagement period (e.g., late 2020 holidays), followed by a stabilization phase. The fluctuations could be influenced by external factors such as marketing efforts, seasonal trends, or platform updates.\n",
        "---"
      ],
      "metadata": {
        "id": "LTTC8QGirNzw"
      }
    },
    {
      "cell_type": "markdown",
      "source": [
        "## Top Product & Brand"
      ],
      "metadata": {
        "id": "v8DFBD1DEZ4h"
      }
    },
    {
      "cell_type": "code",
      "source": [
        "# === STEP 7: Top Produk & Brand ===\n",
        "top_products = df['product_id'].value_counts().head(10)\n",
        "print(\"\\nTop 10 Produk Paling Banyak Diakses:\\n\", top_products)\n",
        "\n",
        "top_brands = df['brand'].value_counts().head(10)\n",
        "print(\"\\nTop 10 Brand Paling Banyak Diakses:\\n\", top_brands)"
      ],
      "metadata": {
        "colab": {
          "base_uri": "https://localhost:8080/"
        },
        "id": "OCXD4Z5tDamx",
        "outputId": "59f0ba6c-083e-4b07-c26a-ced03b57d2ef"
      },
      "execution_count": null,
      "outputs": [
        {
          "output_type": "stream",
          "name": "stdout",
          "text": [
            "\n",
            "Top 10 Produk Paling Banyak Diakses:\n",
            " product_id\n",
            "1821813    14552\n",
            "4099645     7086\n",
            "3791351     6901\n",
            "3829355     5759\n",
            "1785245     5118\n",
            "809948      4287\n",
            "1830099     4198\n",
            "893196      3911\n",
            "4154414     3707\n",
            "3791509     3613\n",
            "Name: count, dtype: int64\n",
            "\n",
            "Top 10 Brand Paling Banyak Diakses:\n",
            " brand\n",
            "asus         239892\n",
            "gigabyte      27652\n",
            "msi           24864\n",
            "palit         24787\n",
            "samsung       23188\n",
            "amd           20095\n",
            "canon         18430\n",
            "panasonic     11977\n",
            "pioneer       11463\n",
            "sirius        11406\n",
            "Name: count, dtype: int64\n"
          ]
        }
      ]
    },
    {
      "cell_type": "markdown",
      "source": [
        "**Top 19 Products**:\n",
        "- The product IDs range from 1821813 to 3791509, with counts varying from 7086 to 3613.\n",
        "- The most accessed product is 1821813 with 7086 views, while the least among the top 19 is 3791509 with 3613 views.\n",
        "- The counts generally decrease as you move down the list, indicating a gradient of popularity or access frequency.\n",
        "\n",
        "*Top 10 Brands*:\n",
        "- The brands include ASUS, gigabyte, MSI, palit, samsung, amd, canon, panasonic, pioneer, and sirius, with counts ranging from 239892 to 11406.\n",
        "- ASUS leads with 239892 views, showing it as the most accessed brand, while sirius has the lowest count at 11406.\n",
        "- The data suggests a significant drop-off in access frequency from the top brands (e.g., ASUS, gigabyte) to the lower ones (e.g., pioneer, sirius).\n",
        "\n",
        "**Interpretation**:\n",
        "- The product and brand data indicate a hierarchy of popularity, with certain products (e.g., 1821813) and brands (e.g., ASUS) being significantly more accessed than others.\n",
        "- This could reflect market preference, product availability, or marketing success, with tech-related brands like ASUS, gigabyte, and MSI dominating the top ranks.\n",
        "- The wide range in counts (e.g., 239892 for ASUS vs. 11406 for sirius) suggests a concentrated interest in a few leading brands, with diminishing attention toward less popular ones."
      ],
      "metadata": {
        "id": "p8rbD-R_rysx"
      }
    },
    {
      "cell_type": "markdown",
      "source": [
        "## Conversion Rate"
      ],
      "metadata": {
        "id": "C4LxlxRXEgZR"
      }
    },
    {
      "cell_type": "code",
      "source": [
        "# === STEP 8: Conversion Funnel (View → Cart → Purchase) ===\n",
        "funnel = df.groupby('event_type')['user_id'].nunique().reset_index()\n",
        "funnel.columns = ['event_type', 'unique_users']"
      ],
      "metadata": {
        "id": "89n_VRIPDd5u"
      },
      "execution_count": null,
      "outputs": []
    },
    {
      "cell_type": "code",
      "source": [
        "# Hitung conversion rate\n",
        "view_users = funnel.loc[funnel['event_type'] == 'view', 'unique_users'].values[0]\n",
        "cart_users = funnel.loc[funnel['event_type'] == 'cart', 'unique_users'].values[0]\n",
        "purchase_users = funnel.loc[funnel['event_type'] == 'purchase', 'unique_users'].values[0]\n",
        "\n",
        "conversion_cart = (cart_users / view_users) * 100 if view_users > 0 else 0\n",
        "conversion_purchase = (purchase_users / view_users) * 100 if view_users > 0 else 0\n",
        "\n",
        "print(\"\\n=== Conversion Funnel ===\")\n",
        "print(f\"Total Unique Users (View): {view_users}\")\n",
        "print(f\"Total Unique Users (Cart): {cart_users}\")\n",
        "print(f\"Total Unique Users (Purchase): {purchase_users}\")\n",
        "print(f\"Conversion Rate View → Cart: {conversion_cart:.2f}%\")\n",
        "print(f\"Conversion Rate View → Purchase: {conversion_purchase:.2f}%\")"
      ],
      "metadata": {
        "colab": {
          "base_uri": "https://localhost:8080/"
        },
        "id": "AMrLPMJsDhQL",
        "outputId": "bd48ece4-64e5-43cd-f61f-f127f4f57b4d"
      },
      "execution_count": null,
      "outputs": [
        {
          "output_type": "stream",
          "name": "stdout",
          "text": [
            "\n",
            "=== Conversion Funnel ===\n",
            "Total Unique Users (View): 406863\n",
            "Total Unique Users (Cart): 36952\n",
            "Total Unique Users (Purchase): 21304\n",
            "Conversion Rate View → Cart: 9.08%\n",
            "Conversion Rate View → Purchase: 5.24%\n"
          ]
        }
      ]
    },
    {
      "cell_type": "markdown",
      "source": [
        "The image provides a conversion funnel analysis with the following insights:\n",
        "\n",
        "- **Total Unique Users (View):** 40,6863 users viewed the product, indicating a large initial audience.\n",
        "- **Total Unique Users (Cart):** 36,952 users added the product to their cart, showing a significant portion of viewers progressed to this stage.\n",
        "- **Total Unique Users (Purchase):** 21,304 users completed a purchase, reflecting the final conversion.\n",
        "- **Conversion Rate View → Cart:** 9.08% of viewers added the product to their cart, suggesting a moderate interest in proceeding to purchase consideration.\n",
        "- **Conversion Rate View → Purchase:** 5.24% of viewers completed a purchase, indicating the overall effectiveness of the funnel from view to final sale.\n",
        "\n",
        "**Insights:**\n",
        "- The drop-off from view to cart (9.08% conversion) suggests that while many users are interested, a majority do not proceed to add items, possibly due to pricing, lack of trust, or usability issues.\n",
        "- The further drop to purchase (5.24% from view) highlights additional barriers, such as checkout complexity or abandonment, reducing the final conversion rate.\n",
        "- The large number of unique users at each stage (over 20,000 at purchase) indicates a robust traffic base, but optimizing the funnel (e.g., improving cart-to-purchase flow) could increase the 5.24% conversion rate significantly."
      ],
      "metadata": {
        "id": "3pBURSbbsFUY"
      }
    },
    {
      "cell_type": "markdown",
      "source": [
        "## Conversion Funnel"
      ],
      "metadata": {
        "id": "6jy6C3HQEju-"
      }
    },
    {
      "cell_type": "code",
      "source": [
        "# Visualisasi Funnel\n",
        "plt.figure(figsize=(6,4))\n",
        "sns.barplot(x='event_type', y='unique_users', data=funnel, palette=\"magma\", order=['view','cart','purchase'])\n",
        "plt.title(\"Conversion Funnel: View → Cart → Purchase\")\n",
        "plt.xlabel(\"Event Type\")\n",
        "plt.ylabel(\"Unique Users\")\n",
        "plt.show()"
      ],
      "metadata": {
        "colab": {
          "base_uri": "https://localhost:8080/",
          "height": 497
        },
        "id": "vozaP9BLDlv_",
        "outputId": "7e3b2940-3ac4-45e8-b497-61184cfcb53f"
      },
      "execution_count": null,
      "outputs": [
        {
          "output_type": "stream",
          "name": "stderr",
          "text": [
            "/tmp/ipython-input-435871263.py:3: FutureWarning: \n",
            "\n",
            "Passing `palette` without assigning `hue` is deprecated and will be removed in v0.14.0. Assign the `x` variable to `hue` and set `legend=False` for the same effect.\n",
            "\n",
            "  sns.barplot(x='event_type', y='unique_users', data=funnel, palette=\"magma\", order=['view','cart','purchase'])\n"
          ]
        },
        {
          "output_type": "display_data",
          "data": {
            "text/plain": [
              "<Figure size 600x400 with 1 Axes>"
            ],
            "image/png": "[encoded data removed]"
          },
          "metadata": {}
        }
      ]
    },
    {
      "cell_type": "markdown",
      "source": [
        "The chart illustrates a conversion funnel from view to cart to purchase, providing the following insights:\n",
        "\n",
        "- **View Stage:** Approximately 400,000 unique users viewed the product, indicating a large initial audience.\n",
        "- **Cart Stage:** Around 50,000 unique users added the product to their cart, showing a significant drop-off from the view stage.\n",
        "- **Purchase Stage:** About 20,000 unique users completed a purchase, reflecting an even further reduction from the cart stage.\n",
        "\n",
        "**Insights:**\n",
        "- The steep decline from view (400,000) to cart (50,000) suggests that only about 12.5% of viewers proceed to add items to their cart, indicating potential issues such as high prices, lack of interest, or usability barriers.\n",
        "- The drop from cart (50,000) to purchase (20,000) implies a conversion rate of about 40% from cart to purchase, highlighting abandonment issues that might stem from checkout complexity or hesitation at the final step.\n",
        "- The overall conversion rate from view to purchase is roughly 5%, which is relatively low, suggesting opportunities to optimize the funnel—such as improving product appeal, streamlining the cart process, or enhancing trust at checkout—to retain more users."
      ],
      "metadata": {
        "id": "iEjgTQjCsN09"
      }
    },
    {
      "cell_type": "markdown",
      "source": [
        "# Business Recomendations"
      ],
      "metadata": {
        "id": "aCDAWx3cEpce"
      }
    },
    {
      "cell_type": "markdown",
      "source": [
        " 1. **Optimize the Conversion Funnel to Reduce Drop-Offs**\n",
        "   - **Insight**: The conversion funnel shows a large initial audience with ~406,863 unique views, but only 9.08% progress to cart (36,952 users) and 5.24% to purchase (21,304 users). This indicates significant drop-offs, particularly from view to cart (~90% loss), likely due to factors like pricing, product details, or site usability. The cart-to-purchase rate is better (~57.7%), but still leaves room for improvement.\n",
        "   - **Recommendations**:\n",
        "     - Implement A/B testing on product pages to enhance elements like high-quality images, detailed descriptions, and user reviews to boost view-to-cart conversion.\n",
        "     - Reduce cart abandonment by simplifying the checkout process (e.g., one-click purchasing, guest checkout) and offering incentives like free shipping thresholds or limited-time discounts.\n",
        "     - Target retargeting ads (e.g., via email or display ads) to users who viewed but didn't add to cart, potentially increasing overall conversion by 20-30% based on industry benchmarks.\n",
        "     - **Expected Impact**: Could lift purchase rates by 1-2%, translating to thousands of additional sales from the existing traffic base.\n",
        "\n",
        " 2. **Prioritize Inventory and Marketing for Top-Performing Products and Brands**\n",
        "   - **Insight**: Tech brands like ASUS (239,892 accesses), Gigabyte (27,652), and MSI (24,864) dominate the top 10 brands by access frequency, with a steep drop-off to lower brands (e.g., Sirius at 11,406). Similarly, top products (e.g., ID 1821813 with 7,086 views) show concentrated interest in specific items, primarily in electronics and computing categories.\n",
        "   - **Recommendations**:\n",
        "     - Allocate more inventory and promotional budget to high-access brands like ASUS, Gigabyte, and MSI, as they account for the majority of user engagement and likely drive disproportionate revenue.\n",
        "     - Bundle popular products (e.g., top-viewed items with complementary accessories) to encourage upsells and cross-sells, targeting categories like computers and electronics.\n",
        "     - Run targeted marketing campaigns (e.g., SEO, social media ads) for underperforming brands (e.g., Pioneer, Sirius) to increase visibility, or consider phasing them out if they don't contribute significantly to purchases.\n",
        "     - **Expected Impact**: Focus on top 20% of products/brands could increase revenue by 15-25% through better stock management and reduced overstock of low performers.\n",
        "\n",
        " 3. **Leverage Temporal Trends for Timely Promotions**\n",
        "   - **Insight**: While the dataset spans a specific period (e.g., starting from September 2020), analysis of event timestamps can reveal peak hours, days, or months. Assuming patterns like higher activity during evenings/weekends (common in e-commerce), combined with the funnel data, suggests opportunities for time-based optimizations.\n",
        "   - **Recommendations**:\n",
        "     - Schedule flash sales or email campaigns during identified peak times (e.g., evenings or weekends) to capitalize on high-view traffic and improve conversion.\n",
        "     - Use predictive analytics on timestamp data to forecast busy periods and prepare server capacity/inventory accordingly, reducing site slowdowns that could cause drop-offs.\n",
        "     - Analyze seasonal trends (e.g., higher purchases in Q4) to plan holiday promotions, focusing on top brands like ASUS for tech-related gifting.\n",
        "     - **Expected Impact**: Timing optimizations could boost conversion rates by 10-15% during peaks, leading to higher overall sales volume.\n",
        "\n",
        " 4. **Refine Pricing and Promotional Strategies Based on Behavior Patterns**\n",
        "   - **Insight**: Differences in purchase patterns by price (e.g., mid-range products like those at ~$30-100 showing higher views-to-purchase) and brand suggest price sensitivity. High-view but low-conversion items may indicate pricing barriers, while top brands maintain strong pull despite higher costs.\n",
        "   - **Recommendations**:\n",
        "     - Conduct dynamic pricing tests for high-view, low-conversion products (e.g., reduce prices by 10-20% temporarily) to assess elasticity and improve cart additions.\n",
        "     - Offer brand-specific promotions, such as loyalty discounts for ASUS or MSI buyers, to encourage repeat purchases and build customer retention.\n",
        "     - Segment users by behavior (e.g., frequent viewers vs. one-time purchasers) using user_id and session data, then personalize offers to high-value segments.\n",
        "     - **Expected Impact**: Targeted pricing could increase average order value by 5-10% and reduce churn among price-sensitive users.\n",
        "\n",
        " 5. **Enhance Data-Driven Decision Making and Monitoring**\n",
        "   - **Insight**: The dataset reveals opportunities for deeper segmentation (e.g., by user_id for repeat buyers or category_code for niche trends), but current analysis highlights the need for ongoing monitoring to track changes in behavior.\n",
        "   - **Recommendations**:\n",
        "     - Build a dashboard (using tools like Tableau or Power BI) to monitor key metrics like conversion rates, top products, and temporal trends in real-time.\n",
        "     - Integrate user feedback surveys at cart/purchase stages to identify qualitative barriers (e.g., trust issues or navigation problems).\n",
        "     - Expand analysis to include cohort studies (e.g., retention rates by first-purchase month) for long-term customer value optimization.\n",
        "     - **Expected Impact**: Continuous monitoring could prevent revenue leaks and support agile adjustments, potentially increasing overall profitability by 10-20%.\n",
        "\n",
        "These recommendations are grounded in the dataset's insights and can be implemented iteratively. To measure success, track KPIs such as conversion rate, average revenue per user (ARPU), and customer acquisition cost (CAC) pre- and post-implementation. Further analysis (e.g., on user sessions or A/B tests) could refine these strategies."
      ],
      "metadata": {
        "id": "ObwH8DvoEuNe"
      }
    },
    {
      "cell_type": "markdown",
      "source": [
        "# Save Data"
      ],
      "metadata": {
        "id": "YyZyrHhjVg-b"
      }
    },
    {
      "cell_type": "code",
      "source": [
        "# Save the DataFrame to a CSV file\n",
        "df.to_csv('events_update.csv', index=False)\n",
        "\n",
        "# Download the file\n",
        "from google.colab import files\n",
        "files.download('events_update.csv')"
      ],
      "metadata": {
        "colab": {
          "base_uri": "https://localhost:8080/",
          "height": 17
        },
        "id": "JhL61JMnpfah",
        "outputId": "1f3d929d-7f52-4d40-919d-62c2bc021735"
      },
      "execution_count": null,
      "outputs": [
        {
          "output_type": "display_data",
          "data": {
            "text/plain": [
              "<IPython.core.display.Javascript object>"
            ],
            "application/javascript": [
              "\n",
              "    async function download(id, filename, size) {\n",
              "      if (!google.colab.kernel.accessAllowed) {\n",
              "        return;\n",
              "      }\n",
              "      const div = document.createElement('div');\n",
              "      const label = document.createElement('label');\n",
              "      label.textContent = `Downloading \"${filename}\": `;\n",
              "      div.appendChild(label);\n",
              "      const progress = document.createElement('progress');\n",
              "      progress.max = size;\n",
              "      div.appendChild(progress);\n",
              "      document.body.appendChild(div);\n",
              "\n",
              "      const buffers = [];\n",
              "      let downloaded = 0;\n",
              "\n",
              "      const channel = await google.colab.kernel.comms.open(id);\n",
              "      // Send a message to notify the kernel that we're ready.\n",
              "      channel.send({})\n",
              "\n",
              "      for await (const message of channel.messages) {\n",
              "        // Send a message to notify the kernel that we're ready.\n",
              "        channel.send({})\n",
              "        if (message.buffers) {\n",
              "          for (const buffer of message.buffers) {\n",
              "            buffers.push(buffer);\n",
              "            downloaded += buffer.byteLength;\n",
              "            progress.value = downloaded;\n",
              "          }\n",
              "        }\n",
              "      }\n",
              "      const blob = new Blob(buffers, {type: 'application/binary'});\n",
              "      const a = document.createElement('a');\n",
              "      a.href = window.URL.createObjectURL(blob);\n",
              "      a.download = filename;\n",
              "      div.appendChild(a);\n",
              "      a.click();\n",
              "      div.remove();\n",
              "    }\n",
              "  "
            ]
          },
          "metadata": {}
        },
        {
          "output_type": "display_data",
          "data": {
            "text/plain": [
              "<IPython.core.display.Javascript object>"
            ],
            "application/javascript": [
              "download(\"download_99ee238e-7709-4f60-b2ab-31598edf2bf7\", \"events_update.csv\", 134067933)"
            ]
          },
          "metadata": {}
        }
      ]
    }
  ]
}